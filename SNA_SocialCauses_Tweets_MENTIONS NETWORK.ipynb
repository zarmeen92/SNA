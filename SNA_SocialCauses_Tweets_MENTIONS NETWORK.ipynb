{
 "cells": [
  {
   "cell_type": "code",
   "execution_count": 1,
   "metadata": {
    "collapsed": true
   },
   "outputs": [],
   "source": [
    "import graphlab as gl"
   ]
  },
  {
   "cell_type": "code",
   "execution_count": 1,
   "metadata": {
    "collapsed": false
   },
   "outputs": [
    {
     "ename": "NameError",
     "evalue": "name 'gl' is not defined",
     "output_type": "error",
     "traceback": [
      "\u001b[1;31m---------------------------------------------------------------------------\u001b[0m",
      "\u001b[1;31mNameError\u001b[0m                                 Traceback (most recent call last)",
      "\u001b[1;32m<ipython-input-1-2d4fed8803ab>\u001b[0m in \u001b[0;36m<module>\u001b[1;34m()\u001b[0m\n\u001b[1;32m----> 1\u001b[1;33m \u001b[0mtimezone\u001b[0m \u001b[1;33m=\u001b[0m \u001b[0mgl\u001b[0m\u001b[1;33m.\u001b[0m\u001b[0mSFrame\u001b[0m\u001b[1;33m.\u001b[0m\u001b[0mread_csv\u001b[0m\u001b[1;33m(\u001b[0m\u001b[1;34m'../timezonedb.csv/zone.csv'\u001b[0m\u001b[1;33m)\u001b[0m\u001b[1;33m\u001b[0m\u001b[0m\n\u001b[0m\u001b[0;32m      2\u001b[0m \u001b[0mcountry\u001b[0m \u001b[1;33m=\u001b[0m \u001b[0mgl\u001b[0m\u001b[1;33m.\u001b[0m\u001b[0mSFrame\u001b[0m\u001b[1;33m.\u001b[0m\u001b[0mread_csv\u001b[0m\u001b[1;33m(\u001b[0m\u001b[1;34m'../timezonedb.csv/country.csv'\u001b[0m\u001b[1;33m)\u001b[0m\u001b[1;33m\u001b[0m\u001b[0m\n",
      "\u001b[1;31mNameError\u001b[0m: name 'gl' is not defined"
     ]
    }
   ],
   "source": [
    "timezone = gl.SFrame.read_csv('../timezonedb.csv/zone.csv')\n",
    "country = gl.SFrame.read_csv('../timezonedb.csv/country.csv')"
   ]
  },
  {
   "cell_type": "code",
   "execution_count": 3,
   "metadata": {
    "collapsed": false
   },
   "outputs": [
    {
     "data": {
      "text/html": [
       "<div style=\"max-height:1000px;max-width:1500px;overflow:auto;\"><table frame=\"box\" rules=\"cols\">\n",
       "    <tr>\n",
       "        <th style=\"padding-left: 1em; padding-right: 1em; text-align: center\">Id</th>\n",
       "        <th style=\"padding-left: 1em; padding-right: 1em; text-align: center\">CountryCode</th>\n",
       "        <th style=\"padding-left: 1em; padding-right: 1em; text-align: center\">Zone</th>\n",
       "        <th style=\"padding-left: 1em; padding-right: 1em; text-align: center\">Country</th>\n",
       "    </tr>\n",
       "    <tr>\n",
       "        <td style=\"padding-left: 1em; padding-right: 1em; text-align: center; vertical-align: top\">1</td>\n",
       "        <td style=\"padding-left: 1em; padding-right: 1em; text-align: center; vertical-align: top\">AD</td>\n",
       "        <td style=\"padding-left: 1em; padding-right: 1em; text-align: center; vertical-align: top\">Europe/Andorra</td>\n",
       "        <td style=\"padding-left: 1em; padding-right: 1em; text-align: center; vertical-align: top\">Andorra</td>\n",
       "    </tr>\n",
       "    <tr>\n",
       "        <td style=\"padding-left: 1em; padding-right: 1em; text-align: center; vertical-align: top\">2</td>\n",
       "        <td style=\"padding-left: 1em; padding-right: 1em; text-align: center; vertical-align: top\">AE</td>\n",
       "        <td style=\"padding-left: 1em; padding-right: 1em; text-align: center; vertical-align: top\">Asia/Dubai</td>\n",
       "        <td style=\"padding-left: 1em; padding-right: 1em; text-align: center; vertical-align: top\">United Arab Emirates</td>\n",
       "    </tr>\n",
       "    <tr>\n",
       "        <td style=\"padding-left: 1em; padding-right: 1em; text-align: center; vertical-align: top\">3</td>\n",
       "        <td style=\"padding-left: 1em; padding-right: 1em; text-align: center; vertical-align: top\">AF</td>\n",
       "        <td style=\"padding-left: 1em; padding-right: 1em; text-align: center; vertical-align: top\">Asia/Kabul</td>\n",
       "        <td style=\"padding-left: 1em; padding-right: 1em; text-align: center; vertical-align: top\">Afghanistan</td>\n",
       "    </tr>\n",
       "    <tr>\n",
       "        <td style=\"padding-left: 1em; padding-right: 1em; text-align: center; vertical-align: top\">4</td>\n",
       "        <td style=\"padding-left: 1em; padding-right: 1em; text-align: center; vertical-align: top\">AG</td>\n",
       "        <td style=\"padding-left: 1em; padding-right: 1em; text-align: center; vertical-align: top\">America/Antigua</td>\n",
       "        <td style=\"padding-left: 1em; padding-right: 1em; text-align: center; vertical-align: top\">Antigua and Barbuda</td>\n",
       "    </tr>\n",
       "    <tr>\n",
       "        <td style=\"padding-left: 1em; padding-right: 1em; text-align: center; vertical-align: top\">5</td>\n",
       "        <td style=\"padding-left: 1em; padding-right: 1em; text-align: center; vertical-align: top\">AI</td>\n",
       "        <td style=\"padding-left: 1em; padding-right: 1em; text-align: center; vertical-align: top\">America/Anguilla</td>\n",
       "        <td style=\"padding-left: 1em; padding-right: 1em; text-align: center; vertical-align: top\">Anguilla</td>\n",
       "    </tr>\n",
       "    <tr>\n",
       "        <td style=\"padding-left: 1em; padding-right: 1em; text-align: center; vertical-align: top\">6</td>\n",
       "        <td style=\"padding-left: 1em; padding-right: 1em; text-align: center; vertical-align: top\">AL</td>\n",
       "        <td style=\"padding-left: 1em; padding-right: 1em; text-align: center; vertical-align: top\">Europe/Tirane</td>\n",
       "        <td style=\"padding-left: 1em; padding-right: 1em; text-align: center; vertical-align: top\">Albania</td>\n",
       "    </tr>\n",
       "    <tr>\n",
       "        <td style=\"padding-left: 1em; padding-right: 1em; text-align: center; vertical-align: top\">7</td>\n",
       "        <td style=\"padding-left: 1em; padding-right: 1em; text-align: center; vertical-align: top\">AM</td>\n",
       "        <td style=\"padding-left: 1em; padding-right: 1em; text-align: center; vertical-align: top\">Asia/Yerevan</td>\n",
       "        <td style=\"padding-left: 1em; padding-right: 1em; text-align: center; vertical-align: top\">Armenia</td>\n",
       "    </tr>\n",
       "    <tr>\n",
       "        <td style=\"padding-left: 1em; padding-right: 1em; text-align: center; vertical-align: top\">8</td>\n",
       "        <td style=\"padding-left: 1em; padding-right: 1em; text-align: center; vertical-align: top\">AO</td>\n",
       "        <td style=\"padding-left: 1em; padding-right: 1em; text-align: center; vertical-align: top\">Africa/Luanda</td>\n",
       "        <td style=\"padding-left: 1em; padding-right: 1em; text-align: center; vertical-align: top\">Angola</td>\n",
       "    </tr>\n",
       "    <tr>\n",
       "        <td style=\"padding-left: 1em; padding-right: 1em; text-align: center; vertical-align: top\">9</td>\n",
       "        <td style=\"padding-left: 1em; padding-right: 1em; text-align: center; vertical-align: top\">AQ</td>\n",
       "        <td style=\"padding-left: 1em; padding-right: 1em; text-align: center; vertical-align: top\">Antarctica/McMurdo</td>\n",
       "        <td style=\"padding-left: 1em; padding-right: 1em; text-align: center; vertical-align: top\">Antarctica</td>\n",
       "    </tr>\n",
       "    <tr>\n",
       "        <td style=\"padding-left: 1em; padding-right: 1em; text-align: center; vertical-align: top\">10</td>\n",
       "        <td style=\"padding-left: 1em; padding-right: 1em; text-align: center; vertical-align: top\">AQ</td>\n",
       "        <td style=\"padding-left: 1em; padding-right: 1em; text-align: center; vertical-align: top\">Antarctica/Casey</td>\n",
       "        <td style=\"padding-left: 1em; padding-right: 1em; text-align: center; vertical-align: top\">Antarctica</td>\n",
       "    </tr>\n",
       "</table>\n",
       "[10 rows x 4 columns]<br/>\n",
       "</div>"
      ],
      "text/plain": [
       "Columns:\n",
       "\tId\tint\n",
       "\tCountryCode\tstr\n",
       "\tZone\tstr\n",
       "\tCountry\tstr\n",
       "\n",
       "Rows: 10\n",
       "\n",
       "Data:\n",
       "+----+-------------+--------------------+----------------------+\n",
       "| Id | CountryCode |        Zone        |       Country        |\n",
       "+----+-------------+--------------------+----------------------+\n",
       "| 1  |      AD     |   Europe/Andorra   |       Andorra        |\n",
       "| 2  |      AE     |     Asia/Dubai     | United Arab Emirates |\n",
       "| 3  |      AF     |     Asia/Kabul     |     Afghanistan      |\n",
       "| 4  |      AG     |  America/Antigua   | Antigua and Barbuda  |\n",
       "| 5  |      AI     |  America/Anguilla  |       Anguilla       |\n",
       "| 6  |      AL     |   Europe/Tirane    |       Albania        |\n",
       "| 7  |      AM     |    Asia/Yerevan    |       Armenia        |\n",
       "| 8  |      AO     |   Africa/Luanda    |        Angola        |\n",
       "| 9  |      AQ     | Antarctica/McMurdo |      Antarctica      |\n",
       "| 10 |      AQ     |  Antarctica/Casey  |      Antarctica      |\n",
       "+----+-------------+--------------------+----------------------+\n",
       "[10 rows x 4 columns]"
      ]
     },
     "execution_count": 3,
     "metadata": {},
     "output_type": "execute_result"
    }
   ],
   "source": [
    "timezone = timezone.join(country,on = 'CountryCode')\n",
    "timezone.head()"
   ]
  },
  {
   "cell_type": "code",
   "execution_count": 4,
   "metadata": {
    "collapsed": true
   },
   "outputs": [],
   "source": [
    "def return_country_from_zone(x):\n",
    "    d = 'United States'\n",
    "    for row in timezone:\n",
    "        if(x in row['Zone']):\n",
    "            d = row['Country']\n",
    "            break\n",
    "    return d\n",
    "            "
   ]
  },
  {
   "cell_type": "code",
   "execution_count": 43,
   "metadata": {
    "collapsed": true
   },
   "outputs": [],
   "source": [
    "#can't get the location on nodes,the reason is that the top influence might not appear in dataset,he is only in our mentions,\n",
    "#in racism : Blk_voice\n",
    "def create_user_mentions(sub):\n",
    "    #source = []\n",
    "    #target = []\n",
    "    nodeList = []\n",
    "    edgelist = []\n",
    "    for tweet in sub:\n",
    "        for e in tweet['X1.entities.user_mentions']:\n",
    "            #source.append(tweet['X1.user.screen_name'])\n",
    "            nodeList.append(tweet['X1.user.screen_name'])\n",
    "            #target.append(e['screen_name'])\n",
    "            nodeList.append(e['screen_name'])\n",
    "            edgelist.append({'source' : tweet['X1.user.screen_name'],'target' : e['screen_name'],'location' : tweet['X1.user.location'],\n",
    "                             'timezone' : tweet['X1.user.time_zone']})\n",
    "    nodeList = list(set(nodeList))\n",
    "    return edgelist,nodeList"
   ]
  },
  {
   "cell_type": "code",
   "execution_count": 44,
   "metadata": {
    "collapsed": false
   },
   "outputs": [],
   "source": [
    "def produce_edges_nodes(filename):\n",
    "    print '------------ '+filename+ 'Cause ------------'\n",
    "    tweets = gl.SFrame.read_csv(filename+'_sf.csv',verbose=False)\n",
    "    print \"Total Tweets : %d\"%tweets.num_rows()\n",
    "    #removing tweets that have no mentions in it\n",
    "    tweets['X1.entities.user_mentions'] = tweets['X1.entities.user_mentions'].astype(list)\n",
    "    sub = tweets[tweets['X1.entities.user_mentions'] != []]\n",
    "    print \"Total Tweets after removing non-mentions : %d\"%sub.num_rows()\n",
    "    edgeList,nodeList = create_user_mentions(sub)\n",
    "    edgeList = gl.SFrame(edgeList)\n",
    "    edgeList = edgeList.unpack('X1')\n",
    "    edgeList['country'] = edgeList['X1.timezone'].apply(return_country_from_zone)\n",
    "    nodeListSF = gl.SFrame({'Id' : nodeList,'Label' : nodeList})\n",
    "    edgeList.export_csv('nodes_edges/'+filename+'_edges.csv')\n",
    "    nodeListSF.export_csv('nodes_edges/'+filename +'_nodes.csv')\n",
    "    print '------------ x ------------'\n",
    "    return True"
   ]
  },
  {
   "cell_type": "code",
   "execution_count": 45,
   "metadata": {
    "collapsed": false
   },
   "outputs": [
    {
     "name": "stdout",
     "output_type": "stream",
     "text": [
      "------------ childabuseCause ------------\n",
      "Total Tweets : 336\n",
      "Total Tweets after removing non-mentions : 199\n",
      "------------ x ------------\n",
      "------------ climateCause ------------\n",
      "Total Tweets : 949\n",
      "Total Tweets after removing non-mentions : 719\n",
      "------------ x ------------\n",
      "------------ eduCause ------------\n",
      "Total Tweets : 963\n",
      "Total Tweets after removing non-mentions : 479\n",
      "------------ x ------------\n",
      "------------ genderCause ------------\n",
      "Total Tweets : 663\n",
      "Total Tweets after removing non-mentions : 301\n",
      "------------ x ------------\n",
      "------------ healthCause ------------\n",
      "Total Tweets : 2627\n",
      "Total Tweets after removing non-mentions : 589\n",
      "------------ x ------------\n",
      "------------ humanrightsCause ------------\n",
      "Total Tweets : 265\n",
      "Total Tweets after removing non-mentions : 177\n",
      "------------ x ------------\n",
      "------------ hungerCause ------------\n",
      "Total Tweets : 5220\n",
      "Total Tweets after removing non-mentions : 3460\n",
      "------------ x ------------\n",
      "------------ povertyCause ------------\n",
      "Total Tweets : 197\n",
      "Total Tweets after removing non-mentions : 137\n",
      "------------ x ------------\n",
      "------------ racismCause ------------\n",
      "Total Tweets : 756\n",
      "Total Tweets after removing non-mentions : 559\n",
      "------------ x ------------\n",
      "------------ refugeesCause ------------\n",
      "Total Tweets : 393\n",
      "Total Tweets after removing non-mentions : 307\n",
      "------------ x ------------\n",
      "------------ terrorismCause ------------\n",
      "Total Tweets : 212\n",
      "Total Tweets after removing non-mentions : 154\n",
      "------------ x ------------\n"
     ]
    }
   ],
   "source": [
    "social_causes = ['childabuse','climate','edu','gender','health','humanrights','hunger','poverty','racism','refugees','terrorism']\n",
    "\n",
    "for i in range(0,len(social_causes)):\n",
    "    produce_edges_nodes(social_causes[i])"
   ]
  },
  {
   "cell_type": "code",
   "execution_count": 28,
   "metadata": {
    "collapsed": true
   },
   "outputs": [],
   "source": []
  },
  {
   "cell_type": "code",
   "execution_count": null,
   "metadata": {
    "collapsed": true
   },
   "outputs": [],
   "source": []
  }
 ],
 "metadata": {
  "kernelspec": {
   "display_name": "Python 2",
   "language": "python",
   "name": "python2"
  },
  "language_info": {
   "codemirror_mode": {
    "name": "ipython",
    "version": 2
   },
   "file_extension": ".py",
   "mimetype": "text/x-python",
   "name": "python",
   "nbconvert_exporter": "python",
   "pygments_lexer": "ipython2",
   "version": "2.7.12"
  }
 },
 "nbformat": 4,
 "nbformat_minor": 0
}
