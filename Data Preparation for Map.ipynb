{
 "cells": [
  {
   "cell_type": "code",
   "execution_count": 1,
   "metadata": {
    "collapsed": true
   },
   "outputs": [],
   "source": [
    "import graphlab as gl"
   ]
  },
  {
   "cell_type": "code",
   "execution_count": 2,
   "metadata": {
    "collapsed": false
   },
   "outputs": [
    {
     "name": "stderr",
     "output_type": "stream",
     "text": [
      "[INFO] graphlab.cython.cy_server: GraphLab Create v2.1 started. Logging: C:\\Users\\Zarmeen\\AppData\\Local\\Temp\\graphlab_server_1478270738.log.0\n",
      "INFO:graphlab.cython.cy_server:GraphLab Create v2.1 started. Logging: C:\\Users\\Zarmeen\\AppData\\Local\\Temp\\graphlab_server_1478270738.log.0\n"
     ]
    },
    {
     "name": "stdout",
     "output_type": "stream",
     "text": [
      "This non-commercial license of GraphLab Create for academic use is assigned to znasim@khi.iba.edu.pk and will expire on February 01, 2017.\n"
     ]
    }
   ],
   "source": [
    "social_causes = ['childabuse','climate','edu','gender','health','humanrights','hunger','poverty','racism','refugees','terrorism']\n",
    "finalSF = gl.SFrame() "
   ]
  },
  {
   "cell_type": "code",
   "execution_count": 3,
   "metadata": {
    "collapsed": false
   },
   "outputs": [
    {
     "data": {
      "text/html": [
       "<pre>Finished parsing file D:\\MSCS\\Fall 2016\\SNA\\sna_project\\with_15000\\nodes_edges\\childabuse_edges.csv</pre>"
      ],
      "text/plain": [
       "Finished parsing file D:\\MSCS\\Fall 2016\\SNA\\sna_project\\with_15000\\nodes_edges\\childabuse_edges.csv"
      ]
     },
     "metadata": {},
     "output_type": "display_data"
    },
    {
     "data": {
      "text/html": [
       "<pre>Parsing completed. Parsed 100 lines in 0.083373 secs.</pre>"
      ],
      "text/plain": [
       "Parsing completed. Parsed 100 lines in 0.083373 secs."
      ]
     },
     "metadata": {},
     "output_type": "display_data"
    },
    {
     "data": {
      "text/html": [
       "<pre>Finished parsing file D:\\MSCS\\Fall 2016\\SNA\\sna_project\\with_15000\\nodes_edges\\childabuse_edges.csv</pre>"
      ],
      "text/plain": [
       "Finished parsing file D:\\MSCS\\Fall 2016\\SNA\\sna_project\\with_15000\\nodes_edges\\childabuse_edges.csv"
      ]
     },
     "metadata": {},
     "output_type": "display_data"
    },
    {
     "data": {
      "text/html": [
       "<pre>Parsing completed. Parsed 264 lines in 0.046872 secs.</pre>"
      ],
      "text/plain": [
       "Parsing completed. Parsed 264 lines in 0.046872 secs."
      ]
     },
     "metadata": {},
     "output_type": "display_data"
    },
    {
     "name": "stdout",
     "output_type": "stream",
     "text": [
      "------------------------------------------------------\n",
      "Inferred types from first 100 line(s) of file as \n",
      "column_type_hints=[str,str,str,str,str]\n",
      "If parsing fails due to incorrect types, you can correct\n",
      "the inferred type list above and pass it to read_csv in\n",
      "the column_type_hints argument\n",
      "------------------------------------------------------\n"
     ]
    }
   ],
   "source": [
    "finalSF = gl.SFrame.read_csv('nodes_edges/'+social_causes[0]+'_edges.csv')\n",
    "finalSF['socialcause'] = social_causes[0]"
   ]
  },
  {
   "cell_type": "code",
   "execution_count": 4,
   "metadata": {
    "collapsed": false
   },
   "outputs": [
    {
     "data": {
      "text/html": [
       "<pre>Finished parsing file D:\\MSCS\\Fall 2016\\SNA\\sna_project\\with_15000\\nodes_edges\\climate_edges.csv</pre>"
      ],
      "text/plain": [
       "Finished parsing file D:\\MSCS\\Fall 2016\\SNA\\sna_project\\with_15000\\nodes_edges\\climate_edges.csv"
      ]
     },
     "metadata": {},
     "output_type": "display_data"
    },
    {
     "data": {
      "text/html": [
       "<pre>Parsing completed. Parsed 100 lines in 0.078187 secs.</pre>"
      ],
      "text/plain": [
       "Parsing completed. Parsed 100 lines in 0.078187 secs."
      ]
     },
     "metadata": {},
     "output_type": "display_data"
    },
    {
     "name": "stdout",
     "output_type": "stream",
     "text": [
      "1\n",
      "------------------------------------------------------"
     ]
    },
    {
     "data": {
      "text/html": [
       "<pre>Finished parsing file D:\\MSCS\\Fall 2016\\SNA\\sna_project\\with_15000\\nodes_edges\\climate_edges.csv</pre>"
      ],
      "text/plain": [
       "Finished parsing file D:\\MSCS\\Fall 2016\\SNA\\sna_project\\with_15000\\nodes_edges\\climate_edges.csv"
      ]
     },
     "metadata": {},
     "output_type": "display_data"
    },
    {
     "data": {
      "text/html": [
       "<pre>Parsing completed. Parsed 1031 lines in 0.064031 secs.</pre>"
      ],
      "text/plain": [
       "Parsing completed. Parsed 1031 lines in 0.064031 secs."
      ]
     },
     "metadata": {},
     "output_type": "display_data"
    },
    {
     "name": "stdout",
     "output_type": "stream",
     "text": [
      "\n",
      "Inferred types from first 100 line(s) of file as \n",
      "column_type_hints=[str,str,str,str,str]\n",
      "If parsing fails due to incorrect types, you can correct\n",
      "the inferred type list above and pass it to read_csv in\n",
      "the column_type_hints argument\n",
      "------------------------------------------------------\n",
      "2"
     ]
    },
    {
     "data": {
      "text/html": [
       "<pre>Finished parsing file D:\\MSCS\\Fall 2016\\SNA\\sna_project\\with_15000\\nodes_edges\\edu_edges.csv</pre>"
      ],
      "text/plain": [
       "Finished parsing file D:\\MSCS\\Fall 2016\\SNA\\sna_project\\with_15000\\nodes_edges\\edu_edges.csv"
      ]
     },
     "metadata": {},
     "output_type": "display_data"
    },
    {
     "data": {
      "text/html": [
       "<pre>Parsing completed. Parsed 100 lines in 0.055203 secs.</pre>"
      ],
      "text/plain": [
       "Parsing completed. Parsed 100 lines in 0.055203 secs."
      ]
     },
     "metadata": {},
     "output_type": "display_data"
    },
    {
     "name": "stdout",
     "output_type": "stream",
     "text": [
      "\n",
      "------------------------------------------------------"
     ]
    },
    {
     "data": {
      "text/html": [
       "<pre>Finished parsing file D:\\MSCS\\Fall 2016\\SNA\\sna_project\\with_15000\\nodes_edges\\edu_edges.csv</pre>"
      ],
      "text/plain": [
       "Finished parsing file D:\\MSCS\\Fall 2016\\SNA\\sna_project\\with_15000\\nodes_edges\\edu_edges.csv"
      ]
     },
     "metadata": {},
     "output_type": "display_data"
    },
    {
     "data": {
      "text/html": [
       "<pre>Parsing completed. Parsed 718 lines in 0.060004 secs.</pre>"
      ],
      "text/plain": [
       "Parsing completed. Parsed 718 lines in 0.060004 secs."
      ]
     },
     "metadata": {},
     "output_type": "display_data"
    },
    {
     "name": "stdout",
     "output_type": "stream",
     "text": [
      "\n",
      "Inferred types from first 100 line(s) of file as \n",
      "column_type_hints=[str,str,str,str,str]\n",
      "If parsing fails due to incorrect types, you can correct\n",
      "the inferred type list above and pass it to read_csv in\n",
      "the column_type_hints argument\n",
      "------------------------------------------------------\n",
      "3"
     ]
    },
    {
     "data": {
      "text/html": [
       "<pre>Finished parsing file D:\\MSCS\\Fall 2016\\SNA\\sna_project\\with_15000\\nodes_edges\\gender_edges.csv</pre>"
      ],
      "text/plain": [
       "Finished parsing file D:\\MSCS\\Fall 2016\\SNA\\sna_project\\with_15000\\nodes_edges\\gender_edges.csv"
      ]
     },
     "metadata": {},
     "output_type": "display_data"
    },
    {
     "data": {
      "text/html": [
       "<pre>Parsing completed. Parsed 100 lines in 0.046869 secs.</pre>"
      ],
      "text/plain": [
       "Parsing completed. Parsed 100 lines in 0.046869 secs."
      ]
     },
     "metadata": {},
     "output_type": "display_data"
    },
    {
     "name": "stdout",
     "output_type": "stream",
     "text": [
      "\n",
      "------------------------------------------------------"
     ]
    },
    {
     "data": {
      "text/html": [
       "<pre>Finished parsing file D:\\MSCS\\Fall 2016\\SNA\\sna_project\\with_15000\\nodes_edges\\gender_edges.csv</pre>"
      ],
      "text/plain": [
       "Finished parsing file D:\\MSCS\\Fall 2016\\SNA\\sna_project\\with_15000\\nodes_edges\\gender_edges.csv"
      ]
     },
     "metadata": {},
     "output_type": "display_data"
    },
    {
     "data": {
      "text/html": [
       "<pre>Parsing completed. Parsed 418 lines in 0.055975 secs.</pre>"
      ],
      "text/plain": [
       "Parsing completed. Parsed 418 lines in 0.055975 secs."
      ]
     },
     "metadata": {},
     "output_type": "display_data"
    },
    {
     "name": "stdout",
     "output_type": "stream",
     "text": [
      "\n",
      "Inferred types from first 100 line(s) of file as \n",
      "column_type_hints=[str,str,str,str,str]\n",
      "If parsing fails due to incorrect types, you can correct\n",
      "the inferred type list above and pass it to read_csv in\n",
      "the column_type_hints argument\n",
      "------------------------------------------------------\n",
      "4"
     ]
    },
    {
     "data": {
      "text/html": [
       "<pre>Finished parsing file D:\\MSCS\\Fall 2016\\SNA\\sna_project\\with_15000\\nodes_edges\\health_edges.csv</pre>"
      ],
      "text/plain": [
       "Finished parsing file D:\\MSCS\\Fall 2016\\SNA\\sna_project\\with_15000\\nodes_edges\\health_edges.csv"
      ]
     },
     "metadata": {},
     "output_type": "display_data"
    },
    {
     "data": {
      "text/html": [
       "<pre>Parsing completed. Parsed 100 lines in 0.071971 secs.</pre>"
      ],
      "text/plain": [
       "Parsing completed. Parsed 100 lines in 0.071971 secs."
      ]
     },
     "metadata": {},
     "output_type": "display_data"
    },
    {
     "name": "stdout",
     "output_type": "stream",
     "text": [
      "\n",
      "------------------------------------------------------"
     ]
    },
    {
     "data": {
      "text/html": [
       "<pre>Finished parsing file D:\\MSCS\\Fall 2016\\SNA\\sna_project\\with_15000\\nodes_edges\\health_edges.csv</pre>"
      ],
      "text/plain": [
       "Finished parsing file D:\\MSCS\\Fall 2016\\SNA\\sna_project\\with_15000\\nodes_edges\\health_edges.csv"
      ]
     },
     "metadata": {},
     "output_type": "display_data"
    },
    {
     "data": {
      "text/html": [
       "<pre>Parsing completed. Parsed 790 lines in 0.060007 secs.</pre>"
      ],
      "text/plain": [
       "Parsing completed. Parsed 790 lines in 0.060007 secs."
      ]
     },
     "metadata": {},
     "output_type": "display_data"
    },
    {
     "name": "stdout",
     "output_type": "stream",
     "text": [
      "\n",
      "Inferred types from first 100 line(s) of file as \n",
      "column_type_hints=[str,str,str,str,str]\n",
      "If parsing fails due to incorrect types, you can correct\n",
      "the inferred type list above and pass it to read_csv in\n",
      "the column_type_hints argument\n",
      "------------------------------------------------------\n",
      "5"
     ]
    },
    {
     "data": {
      "text/html": [
       "<pre>Finished parsing file D:\\MSCS\\Fall 2016\\SNA\\sna_project\\with_15000\\nodes_edges\\humanrights_edges.csv</pre>"
      ],
      "text/plain": [
       "Finished parsing file D:\\MSCS\\Fall 2016\\SNA\\sna_project\\with_15000\\nodes_edges\\humanrights_edges.csv"
      ]
     },
     "metadata": {},
     "output_type": "display_data"
    },
    {
     "data": {
      "text/html": [
       "<pre>Parsing completed. Parsed 100 lines in 0.036404 secs.</pre>"
      ],
      "text/plain": [
       "Parsing completed. Parsed 100 lines in 0.036404 secs."
      ]
     },
     "metadata": {},
     "output_type": "display_data"
    },
    {
     "name": "stdout",
     "output_type": "stream",
     "text": [
      "\n",
      "------------------------------------------------------"
     ]
    },
    {
     "data": {
      "text/html": [
       "<pre>Finished parsing file D:\\MSCS\\Fall 2016\\SNA\\sna_project\\with_15000\\nodes_edges\\humanrights_edges.csv</pre>"
      ],
      "text/plain": [
       "Finished parsing file D:\\MSCS\\Fall 2016\\SNA\\sna_project\\with_15000\\nodes_edges\\humanrights_edges.csv"
      ]
     },
     "metadata": {},
     "output_type": "display_data"
    },
    {
     "data": {
      "text/html": [
       "<pre>Parsing completed. Parsed 269 lines in 0.056003 secs.</pre>"
      ],
      "text/plain": [
       "Parsing completed. Parsed 269 lines in 0.056003 secs."
      ]
     },
     "metadata": {},
     "output_type": "display_data"
    },
    {
     "name": "stdout",
     "output_type": "stream",
     "text": [
      "\n",
      "Inferred types from first 100 line(s) of file as \n",
      "column_type_hints=[str,str,str,str,str]\n",
      "If parsing fails due to incorrect types, you can correct\n",
      "the inferred type list above and pass it to read_csv in\n",
      "the column_type_hints argument\n",
      "------------------------------------------------------\n",
      "6"
     ]
    },
    {
     "data": {
      "text/html": [
       "<pre>Finished parsing file D:\\MSCS\\Fall 2016\\SNA\\sna_project\\with_15000\\nodes_edges\\hunger_edges.csv</pre>"
      ],
      "text/plain": [
       "Finished parsing file D:\\MSCS\\Fall 2016\\SNA\\sna_project\\with_15000\\nodes_edges\\hunger_edges.csv"
      ]
     },
     "metadata": {},
     "output_type": "display_data"
    },
    {
     "data": {
      "text/html": [
       "<pre>Parsing completed. Parsed 100 lines in 0.098231 secs.</pre>"
      ],
      "text/plain": [
       "Parsing completed. Parsed 100 lines in 0.098231 secs."
      ]
     },
     "metadata": {},
     "output_type": "display_data"
    },
    {
     "name": "stdout",
     "output_type": "stream",
     "text": [
      "\n",
      "------------------------------------------------------"
     ]
    },
    {
     "data": {
      "text/html": [
       "<pre>Finished parsing file D:\\MSCS\\Fall 2016\\SNA\\sna_project\\with_15000\\nodes_edges\\hunger_edges.csv</pre>"
      ],
      "text/plain": [
       "Finished parsing file D:\\MSCS\\Fall 2016\\SNA\\sna_project\\with_15000\\nodes_edges\\hunger_edges.csv"
      ]
     },
     "metadata": {},
     "output_type": "display_data"
    },
    {
     "data": {
      "text/html": [
       "<pre>Parsing completed. Parsed 4720 lines in 0.076004 secs.</pre>"
      ],
      "text/plain": [
       "Parsing completed. Parsed 4720 lines in 0.076004 secs."
      ]
     },
     "metadata": {},
     "output_type": "display_data"
    },
    {
     "name": "stdout",
     "output_type": "stream",
     "text": [
      "\n",
      "Inferred types from first 100 line(s) of file as \n",
      "column_type_hints=[str,str,str,str,str]\n",
      "If parsing fails due to incorrect types, you can correct\n",
      "the inferred type list above and pass it to read_csv in\n",
      "the column_type_hints argument\n",
      "------------------------------------------------------\n",
      "7"
     ]
    },
    {
     "data": {
      "text/html": [
       "<pre>Finished parsing file D:\\MSCS\\Fall 2016\\SNA\\sna_project\\with_15000\\nodes_edges\\poverty_edges.csv</pre>"
      ],
      "text/plain": [
       "Finished parsing file D:\\MSCS\\Fall 2016\\SNA\\sna_project\\with_15000\\nodes_edges\\poverty_edges.csv"
      ]
     },
     "metadata": {},
     "output_type": "display_data"
    },
    {
     "data": {
      "text/html": [
       "<pre>Parsing completed. Parsed 100 lines in 0.052005 secs.</pre>"
      ],
      "text/plain": [
       "Parsing completed. Parsed 100 lines in 0.052005 secs."
      ]
     },
     "metadata": {},
     "output_type": "display_data"
    },
    {
     "name": "stdout",
     "output_type": "stream",
     "text": [
      "\n",
      "------------------------------------------------------"
     ]
    },
    {
     "data": {
      "text/html": [
       "<pre>Finished parsing file D:\\MSCS\\Fall 2016\\SNA\\sna_project\\with_15000\\nodes_edges\\poverty_edges.csv</pre>"
      ],
      "text/plain": [
       "Finished parsing file D:\\MSCS\\Fall 2016\\SNA\\sna_project\\with_15000\\nodes_edges\\poverty_edges.csv"
      ]
     },
     "metadata": {},
     "output_type": "display_data"
    },
    {
     "data": {
      "text/html": [
       "<pre>Parsing completed. Parsed 166 lines in 0.076008 secs.</pre>"
      ],
      "text/plain": [
       "Parsing completed. Parsed 166 lines in 0.076008 secs."
      ]
     },
     "metadata": {},
     "output_type": "display_data"
    },
    {
     "name": "stdout",
     "output_type": "stream",
     "text": [
      "\n",
      "Inferred types from first 100 line(s) of file as \n",
      "column_type_hints=[str,str,str,str,str]\n",
      "If parsing fails due to incorrect types, you can correct\n",
      "the inferred type list above and pass it to read_csv in\n",
      "the column_type_hints argument\n",
      "------------------------------------------------------\n",
      "8"
     ]
    },
    {
     "data": {
      "text/html": [
       "<pre>Finished parsing file D:\\MSCS\\Fall 2016\\SNA\\sna_project\\with_15000\\nodes_edges\\racism_edges.csv</pre>"
      ],
      "text/plain": [
       "Finished parsing file D:\\MSCS\\Fall 2016\\SNA\\sna_project\\with_15000\\nodes_edges\\racism_edges.csv"
      ]
     },
     "metadata": {},
     "output_type": "display_data"
    },
    {
     "data": {
      "text/html": [
       "<pre>Parsing completed. Parsed 100 lines in 0.060004 secs.</pre>"
      ],
      "text/plain": [
       "Parsing completed. Parsed 100 lines in 0.060004 secs."
      ]
     },
     "metadata": {},
     "output_type": "display_data"
    },
    {
     "name": "stdout",
     "output_type": "stream",
     "text": [
      "\n",
      "------------------------------------------------------"
     ]
    },
    {
     "data": {
      "text/html": [
       "<pre>Finished parsing file D:\\MSCS\\Fall 2016\\SNA\\sna_project\\with_15000\\nodes_edges\\racism_edges.csv</pre>"
      ],
      "text/plain": [
       "Finished parsing file D:\\MSCS\\Fall 2016\\SNA\\sna_project\\with_15000\\nodes_edges\\racism_edges.csv"
      ]
     },
     "metadata": {},
     "output_type": "display_data"
    },
    {
     "data": {
      "text/html": [
       "<pre>Parsing completed. Parsed 694 lines in 0.052032 secs.</pre>"
      ],
      "text/plain": [
       "Parsing completed. Parsed 694 lines in 0.052032 secs."
      ]
     },
     "metadata": {},
     "output_type": "display_data"
    },
    {
     "name": "stdout",
     "output_type": "stream",
     "text": [
      "\n",
      "Inferred types from first 100 line(s) of file as \n",
      "column_type_hints=[str,str,str,str,str]\n",
      "If parsing fails due to incorrect types, you can correct\n",
      "the inferred type list above and pass it to read_csv in\n",
      "the column_type_hints argument\n",
      "------------------------------------------------------\n",
      "9"
     ]
    },
    {
     "data": {
      "text/html": [
       "<pre>Finished parsing file D:\\MSCS\\Fall 2016\\SNA\\sna_project\\with_15000\\nodes_edges\\refugees_edges.csv</pre>"
      ],
      "text/plain": [
       "Finished parsing file D:\\MSCS\\Fall 2016\\SNA\\sna_project\\with_15000\\nodes_edges\\refugees_edges.csv"
      ]
     },
     "metadata": {},
     "output_type": "display_data"
    },
    {
     "data": {
      "text/html": [
       "<pre>Parsing completed. Parsed 100 lines in 0.046852 secs.</pre>"
      ],
      "text/plain": [
       "Parsing completed. Parsed 100 lines in 0.046852 secs."
      ]
     },
     "metadata": {},
     "output_type": "display_data"
    },
    {
     "name": "stdout",
     "output_type": "stream",
     "text": [
      "\n",
      "------------------------------------------------------"
     ]
    },
    {
     "data": {
      "text/html": [
       "<pre>Finished parsing file D:\\MSCS\\Fall 2016\\SNA\\sna_project\\with_15000\\nodes_edges\\refugees_edges.csv</pre>"
      ],
      "text/plain": [
       "Finished parsing file D:\\MSCS\\Fall 2016\\SNA\\sna_project\\with_15000\\nodes_edges\\refugees_edges.csv"
      ]
     },
     "metadata": {},
     "output_type": "display_data"
    },
    {
     "data": {
      "text/html": [
       "<pre>Parsing completed. Parsed 375 lines in 0.052446 secs.</pre>"
      ],
      "text/plain": [
       "Parsing completed. Parsed 375 lines in 0.052446 secs."
      ]
     },
     "metadata": {},
     "output_type": "display_data"
    },
    {
     "name": "stdout",
     "output_type": "stream",
     "text": [
      "\n",
      "Inferred types from first 100 line(s) of file as \n",
      "column_type_hints=[str,str,str,str,str]\n",
      "If parsing fails due to incorrect types, you can correct\n",
      "the inferred type list above and pass it to read_csv in\n",
      "the column_type_hints argument\n",
      "------------------------------------------------------\n",
      "10"
     ]
    },
    {
     "data": {
      "text/html": [
       "<pre>Finished parsing file D:\\MSCS\\Fall 2016\\SNA\\sna_project\\with_15000\\nodes_edges\\terrorism_edges.csv</pre>"
      ],
      "text/plain": [
       "Finished parsing file D:\\MSCS\\Fall 2016\\SNA\\sna_project\\with_15000\\nodes_edges\\terrorism_edges.csv"
      ]
     },
     "metadata": {},
     "output_type": "display_data"
    },
    {
     "data": {
      "text/html": [
       "<pre>Parsing completed. Parsed 100 lines in 0.062761 secs.</pre>"
      ],
      "text/plain": [
       "Parsing completed. Parsed 100 lines in 0.062761 secs."
      ]
     },
     "metadata": {},
     "output_type": "display_data"
    },
    {
     "name": "stdout",
     "output_type": "stream",
     "text": [
      "\n",
      "------------------------------------------------------"
     ]
    },
    {
     "data": {
      "text/html": [
       "<pre>Finished parsing file D:\\MSCS\\Fall 2016\\SNA\\sna_project\\with_15000\\nodes_edges\\terrorism_edges.csv</pre>"
      ],
      "text/plain": [
       "Finished parsing file D:\\MSCS\\Fall 2016\\SNA\\sna_project\\with_15000\\nodes_edges\\terrorism_edges.csv"
      ]
     },
     "metadata": {},
     "output_type": "display_data"
    },
    {
     "data": {
      "text/html": [
       "<pre>Parsing completed. Parsed 245 lines in 0.048012 secs.</pre>"
      ],
      "text/plain": [
       "Parsing completed. Parsed 245 lines in 0.048012 secs."
      ]
     },
     "metadata": {},
     "output_type": "display_data"
    },
    {
     "name": "stdout",
     "output_type": "stream",
     "text": [
      "\n",
      "Inferred types from first 100 line(s) of file as \n",
      "column_type_hints=[str,str,str,str,str]\n",
      "If parsing fails due to incorrect types, you can correct\n",
      "the inferred type list above and pass it to read_csv in\n",
      "the column_type_hints argument\n",
      "------------------------------------------------------\n"
     ]
    }
   ],
   "source": [
    "for i in range(1,len(social_causes)):\n",
    "    print i\n",
    "    newSF = gl.SFrame.read_csv('nodes_edges/'+social_causes[i]+'_edges.csv')\n",
    "    newSF['socialcause'] = social_causes[i]\n",
    "    finalSF = finalSF.append(newSF)"
   ]
  },
  {
   "cell_type": "code",
   "execution_count": 5,
   "metadata": {
    "collapsed": false
   },
   "outputs": [
    {
     "data": {
      "text/plain": [
       "9690"
      ]
     },
     "execution_count": 5,
     "metadata": {},
     "output_type": "execute_result"
    }
   ],
   "source": [
    "finalSF.num_rows()"
   ]
  },
  {
   "cell_type": "code",
   "execution_count": 39,
   "metadata": {
    "collapsed": false
   },
   "outputs": [
    {
     "name": "stdout",
     "output_type": "stream",
     "text": [
      "Canvas is accessible via web browser at the URL: http://localhost:57070/index.html\n",
      "Opening Canvas in default web browser.\n"
     ]
    }
   ],
   "source": [
    "finalSF['socialcause'].show()"
   ]
  },
  {
   "cell_type": "code",
   "execution_count": 6,
   "metadata": {
    "collapsed": false
   },
   "outputs": [
    {
     "data": {
      "text/html": [
       "<pre>Finished parsing file D:\\MSCS\\Fall 2016\\SNA\\sna_project\\with_15000\\nodes_edges\\country-codes.csv</pre>"
      ],
      "text/plain": [
       "Finished parsing file D:\\MSCS\\Fall 2016\\SNA\\sna_project\\with_15000\\nodes_edges\\country-codes.csv"
      ]
     },
     "metadata": {},
     "output_type": "display_data"
    },
    {
     "data": {
      "text/html": [
       "<pre>Parsing completed. Parsed 100 lines in 0.064003 secs.</pre>"
      ],
      "text/plain": [
       "Parsing completed. Parsed 100 lines in 0.064003 secs."
      ]
     },
     "metadata": {},
     "output_type": "display_data"
    },
    {
     "data": {
      "text/html": [
       "<pre>Finished parsing file D:\\MSCS\\Fall 2016\\SNA\\sna_project\\with_15000\\nodes_edges\\country-codes.csv</pre>"
      ],
      "text/plain": [
       "Finished parsing file D:\\MSCS\\Fall 2016\\SNA\\sna_project\\with_15000\\nodes_edges\\country-codes.csv"
      ]
     },
     "metadata": {},
     "output_type": "display_data"
    },
    {
     "data": {
      "text/html": [
       "<pre>Parsing completed. Parsed 249 lines in 0.062502 secs.</pre>"
      ],
      "text/plain": [
       "Parsing completed. Parsed 249 lines in 0.062502 secs."
      ]
     },
     "metadata": {},
     "output_type": "display_data"
    },
    {
     "name": "stdout",
     "output_type": "stream",
     "text": [
      "------------------------------------------------------\n",
      "Inferred types from first 100 line(s) of file as \n",
      "column_type_hints=[str,str,str,str,str,long,str,str,str,str,str,str,str,long,str,str,str,long,str,long,str,str,str,str,str,long,str]\n",
      "If parsing fails due to incorrect types, you can correct\n",
      "the inferred type list above and pass it to read_csv in\n",
      "the column_type_hints argument\n",
      "------------------------------------------------------\n"
     ]
    }
   ],
   "source": [
    "country = gl.SFrame.read_csv('nodes_edges/country-codes.csv')"
   ]
  },
  {
   "cell_type": "code",
   "execution_count": 7,
   "metadata": {
    "collapsed": false
   },
   "outputs": [],
   "source": [
    "country = country['name','ISO3166-1-Alpha-3']"
   ]
  },
  {
   "cell_type": "code",
   "execution_count": 8,
   "metadata": {
    "collapsed": false
   },
   "outputs": [
    {
     "data": {
      "text/html": [
       "<div style=\"max-height:1000px;max-width:1500px;overflow:auto;\"><table frame=\"box\" rules=\"cols\">\n",
       "    <tr>\n",
       "        <th style=\"padding-left: 1em; padding-right: 1em; text-align: center\">country</th>\n",
       "        <th style=\"padding-left: 1em; padding-right: 1em; text-align: center\">ISO3166-1-Alpha-3</th>\n",
       "    </tr>\n",
       "    <tr>\n",
       "        <td style=\"padding-left: 1em; padding-right: 1em; text-align: center; vertical-align: top\">Afghanistan</td>\n",
       "        <td style=\"padding-left: 1em; padding-right: 1em; text-align: center; vertical-align: top\">AFG</td>\n",
       "    </tr>\n",
       "    <tr>\n",
       "        <td style=\"padding-left: 1em; padding-right: 1em; text-align: center; vertical-align: top\">Albania</td>\n",
       "        <td style=\"padding-left: 1em; padding-right: 1em; text-align: center; vertical-align: top\">ALB</td>\n",
       "    </tr>\n",
       "    <tr>\n",
       "        <td style=\"padding-left: 1em; padding-right: 1em; text-align: center; vertical-align: top\">Algeria</td>\n",
       "        <td style=\"padding-left: 1em; padding-right: 1em; text-align: center; vertical-align: top\">DZA</td>\n",
       "    </tr>\n",
       "    <tr>\n",
       "        <td style=\"padding-left: 1em; padding-right: 1em; text-align: center; vertical-align: top\">American Samoa</td>\n",
       "        <td style=\"padding-left: 1em; padding-right: 1em; text-align: center; vertical-align: top\">ASM</td>\n",
       "    </tr>\n",
       "    <tr>\n",
       "        <td style=\"padding-left: 1em; padding-right: 1em; text-align: center; vertical-align: top\">Andorra</td>\n",
       "        <td style=\"padding-left: 1em; padding-right: 1em; text-align: center; vertical-align: top\">AND</td>\n",
       "    </tr>\n",
       "    <tr>\n",
       "        <td style=\"padding-left: 1em; padding-right: 1em; text-align: center; vertical-align: top\">Angola</td>\n",
       "        <td style=\"padding-left: 1em; padding-right: 1em; text-align: center; vertical-align: top\">AGO</td>\n",
       "    </tr>\n",
       "    <tr>\n",
       "        <td style=\"padding-left: 1em; padding-right: 1em; text-align: center; vertical-align: top\">Anguilla</td>\n",
       "        <td style=\"padding-left: 1em; padding-right: 1em; text-align: center; vertical-align: top\">AIA</td>\n",
       "    </tr>\n",
       "    <tr>\n",
       "        <td style=\"padding-left: 1em; padding-right: 1em; text-align: center; vertical-align: top\">Antarctica</td>\n",
       "        <td style=\"padding-left: 1em; padding-right: 1em; text-align: center; vertical-align: top\">ATA</td>\n",
       "    </tr>\n",
       "    <tr>\n",
       "        <td style=\"padding-left: 1em; padding-right: 1em; text-align: center; vertical-align: top\">Antigua &amp; Barbuda</td>\n",
       "        <td style=\"padding-left: 1em; padding-right: 1em; text-align: center; vertical-align: top\">ATG</td>\n",
       "    </tr>\n",
       "    <tr>\n",
       "        <td style=\"padding-left: 1em; padding-right: 1em; text-align: center; vertical-align: top\">Argentina</td>\n",
       "        <td style=\"padding-left: 1em; padding-right: 1em; text-align: center; vertical-align: top\">ARG</td>\n",
       "    </tr>\n",
       "</table>\n",
       "[249 rows x 2 columns]<br/>Note: Only the head of the SFrame is printed.<br/>You can use print_rows(num_rows=m, num_columns=n) to print more rows and columns.\n",
       "</div>"
      ],
      "text/plain": [
       "Columns:\n",
       "\tcountry\tstr\n",
       "\tISO3166-1-Alpha-3\tstr\n",
       "\n",
       "Rows: 249\n",
       "\n",
       "Data:\n",
       "+-------------------+-------------------+\n",
       "|      country      | ISO3166-1-Alpha-3 |\n",
       "+-------------------+-------------------+\n",
       "|    Afghanistan    |        AFG        |\n",
       "|      Albania      |        ALB        |\n",
       "|      Algeria      |        DZA        |\n",
       "|   American Samoa  |        ASM        |\n",
       "|      Andorra      |        AND        |\n",
       "|       Angola      |        AGO        |\n",
       "|      Anguilla     |        AIA        |\n",
       "|     Antarctica    |        ATA        |\n",
       "| Antigua & Barbuda |        ATG        |\n",
       "|     Argentina     |        ARG        |\n",
       "+-------------------+-------------------+\n",
       "[249 rows x 2 columns]\n",
       "Note: Only the head of the SFrame is printed.\n",
       "You can use print_rows(num_rows=m, num_columns=n) to print more rows and columns."
      ]
     },
     "execution_count": 8,
     "metadata": {},
     "output_type": "execute_result"
    }
   ],
   "source": [
    "country.rename({'name' : 'country'})"
   ]
  },
  {
   "cell_type": "code",
   "execution_count": 11,
   "metadata": {
    "collapsed": false
   },
   "outputs": [
    {
     "name": "stdout",
     "output_type": "stream",
     "text": [
      "+--------------------------------+-------------------+\n",
      "|            country             | ISO3166-1-Alpha-3 |\n",
      "+--------------------------------+-------------------+\n",
      "|          Afghanistan           |        AFG        |\n",
      "|            Albania             |        ALB        |\n",
      "|            Algeria             |        DZA        |\n",
      "|         American Samoa         |        ASM        |\n",
      "|            Andorra             |        AND        |\n",
      "|             Angola             |        AGO        |\n",
      "|            Anguilla            |        AIA        |\n",
      "|           Antarctica           |        ATA        |\n",
      "|       Antigua & Barbuda        |        ATG        |\n",
      "|           Argentina            |        ARG        |\n",
      "|            Armenia             |        ARM        |\n",
      "|             Aruba              |        ABW        |\n",
      "|           Australia            |        AUS        |\n",
      "|            Austria             |        AUT        |\n",
      "|           Azerbaijan           |        AZE        |\n",
      "|            Bahamas             |        BHS        |\n",
      "|            Bahrain             |        BHR        |\n",
      "|           Bangladesh           |        BGD        |\n",
      "|            Barbados            |        BRB        |\n",
      "|            Belarus             |        BLR        |\n",
      "|            Belgium             |        BEL        |\n",
      "|             Belize             |        BLZ        |\n",
      "|             Benin              |        BEN        |\n",
      "|            Bermuda             |        BMU        |\n",
      "|             Bhutan             |        BTN        |\n",
      "|            Bolivia             |        BOL        |\n",
      "|             Bosnia             |        BIH        |\n",
      "|            Botswana            |        BWA        |\n",
      "|         Bouvet Island          |        BVT        |\n",
      "|             Brazil             |        BRA        |\n",
      "| British Indian Ocean Territory |        IOT        |\n",
      "|     British Virgin Islands     |        VGB        |\n",
      "|             Brunei             |        BRN        |\n",
      "|            Bulgaria            |        BGR        |\n",
      "|          Burkina Faso          |        BFA        |\n",
      "|            Burundi             |        BDI        |\n",
      "|            Cambodia            |        KHM        |\n",
      "|            Cameroon            |        CMR        |\n",
      "|             Canada             |        CAN        |\n",
      "|           Cape Verde           |        CPV        |\n",
      "|     Caribbean Netherlands      |        BES        |\n",
      "|         Cayman Islands         |        CYM        |\n",
      "|    Central African Republic    |        CAF        |\n",
      "|              Chad              |        TCD        |\n",
      "|             Chile              |        CHL        |\n",
      "|             China              |        CHN        |\n",
      "|        Christmas Island        |        CXR        |\n",
      "|    Cocos (Keeling) Islands     |        CCK        |\n",
      "|            Colombia            |        COL        |\n",
      "|            Comoros             |        COM        |\n",
      "|      Congo - Brazzaville       |        COG        |\n",
      "|        Congo - Kinshasa        |        COD        |\n",
      "|          Cook Islands          |        COK        |\n",
      "|           Costa Rica           |        CRI        |\n",
      "|            Croatia             |        HRV        |\n",
      "|              Cuba              |        CUB        |\n",
      "|            Curaçao             |        CUW        |\n",
      "|             Cyprus             |        CYP        |\n",
      "|            Czechia             |        CZE        |\n",
      "|         Côte d’Ivoire          |        CIV        |\n",
      "|            Denmark             |        DNK        |\n",
      "|            Djibouti            |        DJI        |\n",
      "|            Dominica            |        DMA        |\n",
      "|       Dominican Republic       |        DOM        |\n",
      "|            Ecuador             |        ECU        |\n",
      "|             Egypt              |        EGY        |\n",
      "|          El Salvador           |        SLV        |\n",
      "|       Equatorial Guinea        |        GNQ        |\n",
      "|            Eritrea             |        ERI        |\n",
      "|            Estonia             |        EST        |\n",
      "|            Ethiopia            |        ETH        |\n",
      "|        Falkland Islands        |        FLK        |\n",
      "|         Faroe Islands          |        FRO        |\n",
      "|              Fiji              |        FJI        |\n",
      "|            Finland             |        FIN        |\n",
      "|             France             |        FRA        |\n",
      "|         French Guiana          |        GUF        |\n",
      "|        French Polynesia        |        PYF        |\n",
      "|  French Southern Territories   |        ATF        |\n",
      "|             Gabon              |        GAB        |\n",
      "|             Gambia             |        GMB        |\n",
      "|            Georgia             |        GEO        |\n",
      "|            Germany             |        DEU        |\n",
      "|             Ghana              |        GHA        |\n",
      "|           Gibraltar            |        GIB        |\n",
      "|             Greece             |        GRC        |\n",
      "|           Greenland            |        GRL        |\n",
      "|            Grenada             |        GRD        |\n",
      "|           Guadeloupe           |        GLP        |\n",
      "|              Guam              |        GUM        |\n",
      "|           Guatemala            |        GTM        |\n",
      "|            Guernsey            |        GGY        |\n",
      "|             Guinea             |        GIN        |\n",
      "|         Guinea-Bissau          |        GNB        |\n",
      "|             Guyana             |        GUY        |\n",
      "|             Haiti              |        HTI        |\n",
      "|    Heard & McDonald Islands    |        HMD        |\n",
      "|            Honduras            |        HND        |\n",
      "|           Hong Kong            |        HKG        |\n",
      "|            Hungary             |        HUN        |\n",
      "|            Iceland             |        ISL        |\n",
      "|             India              |        IND        |\n",
      "|           Indonesia            |        IDN        |\n",
      "|              Iran              |        IRN        |\n",
      "|              Iraq              |        IRQ        |\n",
      "|            Ireland             |        IRL        |\n",
      "|          Isle of Man           |        IMN        |\n",
      "|             Israel             |        ISR        |\n",
      "|             Italy              |        ITA        |\n",
      "|            Jamaica             |        JAM        |\n",
      "|             Japan              |        JPN        |\n",
      "|             Jersey             |        JEY        |\n",
      "|             Jordan             |        JOR        |\n",
      "|           Kazakhstan           |        KAZ        |\n",
      "|             Kenya              |        KEN        |\n",
      "|            Kiribati            |        KIR        |\n",
      "|             Kuwait             |        KWT        |\n",
      "|           Kyrgyzstan           |        KGZ        |\n",
      "|              Laos              |        LAO        |\n",
      "|             Latvia             |        LVA        |\n",
      "|            Lebanon             |        LBN        |\n",
      "|            Lesotho             |        LSO        |\n",
      "|            Liberia             |        LBR        |\n",
      "|             Libya              |        LBY        |\n",
      "|         Liechtenstein          |        LIE        |\n",
      "|           Lithuania            |        LTU        |\n",
      "|           Luxembourg           |        LUX        |\n",
      "|             Macau              |        MAC        |\n",
      "|           Macedonia            |        MKD        |\n",
      "|           Madagascar           |        MDG        |\n",
      "|             Malawi             |        MWI        |\n",
      "|            Malaysia            |        MYS        |\n",
      "|            Maldives            |        MDV        |\n",
      "|              Mali              |        MLI        |\n",
      "|             Malta              |        MLT        |\n",
      "|        Marshall Islands        |        MHL        |\n",
      "|           Martinique           |        MTQ        |\n",
      "|           Mauritania           |        MRT        |\n",
      "|           Mauritius            |        MUS        |\n",
      "|            Mayotte             |        MYT        |\n",
      "|             Mexico             |        MEX        |\n",
      "|           Micronesia           |        FSM        |\n",
      "|            Moldova             |        MDA        |\n",
      "|             Monaco             |        MCO        |\n",
      "|            Mongolia            |        MNG        |\n",
      "|           Montenegro           |        MNE        |\n",
      "|           Montserrat           |        MSR        |\n",
      "|            Morocco             |        MAR        |\n",
      "|           Mozambique           |        MOZ        |\n",
      "|            Myanmar             |        MMR        |\n",
      "|            Namibia             |        NAM        |\n",
      "|             Nauru              |        NRU        |\n",
      "|             Nepal              |        NPL        |\n",
      "|          Netherlands           |        NLD        |\n",
      "|         New Caledonia          |        NCL        |\n",
      "|          New Zealand           |        NZL        |\n",
      "|           Nicaragua            |        NIC        |\n",
      "|             Niger              |        NER        |\n",
      "|            Nigeria             |        NGA        |\n",
      "|              Niue              |        NIU        |\n",
      "|         Norfolk Island         |        NFK        |\n",
      "|          North Korea           |        PRK        |\n",
      "|    Northern Mariana Islands    |        MNP        |\n",
      "|             Norway             |        NOR        |\n",
      "|              Oman              |        OMN        |\n",
      "|            Pakistan            |        PAK        |\n",
      "|             Palau              |        PLW        |\n",
      "|           Palestine            |        PSE        |\n",
      "|             Panama             |        PAN        |\n",
      "|        Papua New Guinea        |        PNG        |\n",
      "|            Paraguay            |        PRY        |\n",
      "|              Peru              |        PER        |\n",
      "|          Philippines           |        PHL        |\n",
      "|        Pitcairn Islands        |        PCN        |\n",
      "|             Poland             |        POL        |\n",
      "|            Portugal            |        PRT        |\n",
      "|          Puerto Rico           |        PRI        |\n",
      "|             Qatar              |        QAT        |\n",
      "|            Romania             |        ROU        |\n",
      "|             Russia             |        RUS        |\n",
      "|             Rwanda             |        RWA        |\n",
      "|            Réunion             |        REU        |\n",
      "|             Samoa              |        WSM        |\n",
      "|           San Marino           |        SMR        |\n",
      "|          Saudi Arabia          |        SAU        |\n",
      "|            Senegal             |        SEN        |\n",
      "|             Serbia             |        SRB        |\n",
      "|           Seychelles           |        SYC        |\n",
      "|          Sierra Leone          |        SLE        |\n",
      "|           Singapore            |        SGP        |\n",
      "|          Sint Maarten          |        SXM        |\n",
      "|            Slovakia            |        SVK        |\n",
      "|            Slovenia            |        SVN        |\n",
      "|        Solomon Islands         |        SLB        |\n",
      "|            Somalia             |        SOM        |\n",
      "|          South Africa          |        ZAF        |\n",
      "| South Georgia & South Sand...  |        SGS        |\n",
      "|          South Korea           |        KOR        |\n",
      "|          South Sudan           |        SSD        |\n",
      "|             Spain              |        ESP        |\n",
      "|           Sri Lanka            |        LKA        |\n",
      "|         St. Barthélemy         |        BLM        |\n",
      "|           St. Helena           |        SHN        |\n",
      "|       St. Kitts & Nevis        |        KNA        |\n",
      "|           St. Lucia            |        LCA        |\n",
      "|           St. Martin           |        MAF        |\n",
      "|     St. Pierre & Miquelon      |        SPM        |\n",
      "|    St. Vincent & Grenadines    |        VCT        |\n",
      "|             Sudan              |        SDN        |\n",
      "|            Suriname            |        SUR        |\n",
      "|      Svalbard & Jan Mayen      |        SJM        |\n",
      "|           Swaziland            |        SWZ        |\n",
      "|             Sweden             |        SWE        |\n",
      "|          Switzerland           |        CHE        |\n",
      "|             Syria              |        SYR        |\n",
      "|      São Tomé & Príncipe       |        STP        |\n",
      "|             Taiwan             |        TWN        |\n",
      "|           Tajikistan           |        TJK        |\n",
      "|            Tanzania            |        TZA        |\n",
      "|            Thailand            |        THA        |\n",
      "|          Timor-Leste           |        TLS        |\n",
      "|              Togo              |        TGO        |\n",
      "|            Tokelau             |        TKL        |\n",
      "|             Tonga              |        TON        |\n",
      "|       Trinidad & Tobago        |        TTO        |\n",
      "|            Tunisia             |        TUN        |\n",
      "|             Turkey             |        TUR        |\n",
      "|          Turkmenistan          |        TKM        |\n",
      "|     Turks & Caicos Islands     |        TCA        |\n",
      "|             Tuvalu             |        TUV        |\n",
      "|     U.S. Outlying Islands      |        UMI        |\n",
      "|      U.S. Virgin Islands       |        VIR        |\n",
      "|               UK               |        GBR        |\n",
      "|               US               |        USA        |\n",
      "|             Uganda             |        UGA        |\n",
      "|            Ukraine             |        UKR        |\n",
      "|      United Arab Emirates      |        ARE        |\n",
      "|            Uruguay             |        URY        |\n",
      "|           Uzbekistan           |        UZB        |\n",
      "|            Vanuatu             |        VUT        |\n",
      "|          Vatican City          |        VAT        |\n",
      "|           Venezuela            |        VEN        |\n",
      "|            Vietnam             |        VNM        |\n",
      "|        Wallis & Futuna         |        WLF        |\n",
      "|         Western Sahara         |        ESH        |\n",
      "|             Yemen              |        YEM        |\n",
      "|             Zambia             |        ZMB        |\n",
      "|            Zimbabwe            |        ZWE        |\n",
      "|         Åland Islands          |        ALA        |\n",
      "+--------------------------------+-------------------+\n",
      "[249 rows x 2 columns]\n",
      "\n"
     ]
    }
   ],
   "source": [
    "country.print_rows(500)"
   ]
  },
  {
   "cell_type": "code",
   "execution_count": 24,
   "metadata": {
    "collapsed": true
   },
   "outputs": [],
   "source": [
    "sub = finalSF['socialcause','country']\n"
   ]
  },
  {
   "cell_type": "code",
   "execution_count": 25,
   "metadata": {
    "collapsed": false
   },
   "outputs": [
    {
     "data": {
      "text/html": [
       "<div style=\"max-height:1000px;max-width:1500px;overflow:auto;\"><table frame=\"box\" rules=\"cols\">\n",
       "    <tr>\n",
       "        <th style=\"padding-left: 1em; padding-right: 1em; text-align: center\">socialcause</th>\n",
       "        <th style=\"padding-left: 1em; padding-right: 1em; text-align: center\">country</th>\n",
       "    </tr>\n",
       "    <tr>\n",
       "        <td style=\"padding-left: 1em; padding-right: 1em; text-align: center; vertical-align: top\">childabuse</td>\n",
       "        <td style=\"padding-left: 1em; padding-right: 1em; text-align: center; vertical-align: top\">United Kingdom</td>\n",
       "    </tr>\n",
       "    <tr>\n",
       "        <td style=\"padding-left: 1em; padding-right: 1em; text-align: center; vertical-align: top\">childabuse</td>\n",
       "        <td style=\"padding-left: 1em; padding-right: 1em; text-align: center; vertical-align: top\">United Kingdom</td>\n",
       "    </tr>\n",
       "    <tr>\n",
       "        <td style=\"padding-left: 1em; padding-right: 1em; text-align: center; vertical-align: top\">childabuse</td>\n",
       "        <td style=\"padding-left: 1em; padding-right: 1em; text-align: center; vertical-align: top\">United States</td>\n",
       "    </tr>\n",
       "    <tr>\n",
       "        <td style=\"padding-left: 1em; padding-right: 1em; text-align: center; vertical-align: top\">childabuse</td>\n",
       "        <td style=\"padding-left: 1em; padding-right: 1em; text-align: center; vertical-align: top\">United States</td>\n",
       "    </tr>\n",
       "    <tr>\n",
       "        <td style=\"padding-left: 1em; padding-right: 1em; text-align: center; vertical-align: top\">childabuse</td>\n",
       "        <td style=\"padding-left: 1em; padding-right: 1em; text-align: center; vertical-align: top\">United Kingdom</td>\n",
       "    </tr>\n",
       "    <tr>\n",
       "        <td style=\"padding-left: 1em; padding-right: 1em; text-align: center; vertical-align: top\">childabuse</td>\n",
       "        <td style=\"padding-left: 1em; padding-right: 1em; text-align: center; vertical-align: top\">United States</td>\n",
       "    </tr>\n",
       "    <tr>\n",
       "        <td style=\"padding-left: 1em; padding-right: 1em; text-align: center; vertical-align: top\">childabuse</td>\n",
       "        <td style=\"padding-left: 1em; padding-right: 1em; text-align: center; vertical-align: top\">United States</td>\n",
       "    </tr>\n",
       "    <tr>\n",
       "        <td style=\"padding-left: 1em; padding-right: 1em; text-align: center; vertical-align: top\">childabuse</td>\n",
       "        <td style=\"padding-left: 1em; padding-right: 1em; text-align: center; vertical-align: top\">Indonesia</td>\n",
       "    </tr>\n",
       "    <tr>\n",
       "        <td style=\"padding-left: 1em; padding-right: 1em; text-align: center; vertical-align: top\">childabuse</td>\n",
       "        <td style=\"padding-left: 1em; padding-right: 1em; text-align: center; vertical-align: top\">United States</td>\n",
       "    </tr>\n",
       "    <tr>\n",
       "        <td style=\"padding-left: 1em; padding-right: 1em; text-align: center; vertical-align: top\">childabuse</td>\n",
       "        <td style=\"padding-left: 1em; padding-right: 1em; text-align: center; vertical-align: top\">United States</td>\n",
       "    </tr>\n",
       "</table>\n",
       "[10 rows x 2 columns]<br/>\n",
       "</div>"
      ],
      "text/plain": [
       "Columns:\n",
       "\tsocialcause\tstr\n",
       "\tcountry\tstr\n",
       "\n",
       "Rows: 10\n",
       "\n",
       "Data:\n",
       "+-------------+----------------+\n",
       "| socialcause |    country     |\n",
       "+-------------+----------------+\n",
       "|  childabuse | United Kingdom |\n",
       "|  childabuse | United Kingdom |\n",
       "|  childabuse | United States  |\n",
       "|  childabuse | United States  |\n",
       "|  childabuse | United Kingdom |\n",
       "|  childabuse | United States  |\n",
       "|  childabuse | United States  |\n",
       "|  childabuse |   Indonesia    |\n",
       "|  childabuse | United States  |\n",
       "|  childabuse | United States  |\n",
       "+-------------+----------------+\n",
       "[10 rows x 2 columns]"
      ]
     },
     "execution_count": 25,
     "metadata": {},
     "output_type": "execute_result"
    }
   ],
   "source": [
    "sub.head()"
   ]
  },
  {
   "cell_type": "code",
   "execution_count": 26,
   "metadata": {
    "collapsed": true
   },
   "outputs": [],
   "source": [
    "def renameUKUS(x):\n",
    "    if(x == 'United Kingdom'):\n",
    "        return 'UK'\n",
    "    elif(x == 'United States'):\n",
    "        return 'US'\n",
    "    else:\n",
    "        return x"
   ]
  },
  {
   "cell_type": "code",
   "execution_count": 27,
   "metadata": {
    "collapsed": false
   },
   "outputs": [
    {
     "data": {
      "text/html": [
       "<div style=\"max-height:1000px;max-width:1500px;overflow:auto;\"><table frame=\"box\" rules=\"cols\">\n",
       "    <tr>\n",
       "        <th style=\"padding-left: 1em; padding-right: 1em; text-align: center\">socialcause</th>\n",
       "        <th style=\"padding-left: 1em; padding-right: 1em; text-align: center\">country</th>\n",
       "    </tr>\n",
       "    <tr>\n",
       "        <td style=\"padding-left: 1em; padding-right: 1em; text-align: center; vertical-align: top\">childabuse</td>\n",
       "        <td style=\"padding-left: 1em; padding-right: 1em; text-align: center; vertical-align: top\">UK</td>\n",
       "    </tr>\n",
       "    <tr>\n",
       "        <td style=\"padding-left: 1em; padding-right: 1em; text-align: center; vertical-align: top\">childabuse</td>\n",
       "        <td style=\"padding-left: 1em; padding-right: 1em; text-align: center; vertical-align: top\">UK</td>\n",
       "    </tr>\n",
       "    <tr>\n",
       "        <td style=\"padding-left: 1em; padding-right: 1em; text-align: center; vertical-align: top\">childabuse</td>\n",
       "        <td style=\"padding-left: 1em; padding-right: 1em; text-align: center; vertical-align: top\">US</td>\n",
       "    </tr>\n",
       "    <tr>\n",
       "        <td style=\"padding-left: 1em; padding-right: 1em; text-align: center; vertical-align: top\">childabuse</td>\n",
       "        <td style=\"padding-left: 1em; padding-right: 1em; text-align: center; vertical-align: top\">US</td>\n",
       "    </tr>\n",
       "    <tr>\n",
       "        <td style=\"padding-left: 1em; padding-right: 1em; text-align: center; vertical-align: top\">childabuse</td>\n",
       "        <td style=\"padding-left: 1em; padding-right: 1em; text-align: center; vertical-align: top\">UK</td>\n",
       "    </tr>\n",
       "    <tr>\n",
       "        <td style=\"padding-left: 1em; padding-right: 1em; text-align: center; vertical-align: top\">childabuse</td>\n",
       "        <td style=\"padding-left: 1em; padding-right: 1em; text-align: center; vertical-align: top\">US</td>\n",
       "    </tr>\n",
       "    <tr>\n",
       "        <td style=\"padding-left: 1em; padding-right: 1em; text-align: center; vertical-align: top\">childabuse</td>\n",
       "        <td style=\"padding-left: 1em; padding-right: 1em; text-align: center; vertical-align: top\">US</td>\n",
       "    </tr>\n",
       "    <tr>\n",
       "        <td style=\"padding-left: 1em; padding-right: 1em; text-align: center; vertical-align: top\">childabuse</td>\n",
       "        <td style=\"padding-left: 1em; padding-right: 1em; text-align: center; vertical-align: top\">Indonesia</td>\n",
       "    </tr>\n",
       "    <tr>\n",
       "        <td style=\"padding-left: 1em; padding-right: 1em; text-align: center; vertical-align: top\">childabuse</td>\n",
       "        <td style=\"padding-left: 1em; padding-right: 1em; text-align: center; vertical-align: top\">US</td>\n",
       "    </tr>\n",
       "    <tr>\n",
       "        <td style=\"padding-left: 1em; padding-right: 1em; text-align: center; vertical-align: top\">childabuse</td>\n",
       "        <td style=\"padding-left: 1em; padding-right: 1em; text-align: center; vertical-align: top\">US</td>\n",
       "    </tr>\n",
       "</table>\n",
       "[10 rows x 2 columns]<br/>\n",
       "</div>"
      ],
      "text/plain": [
       "Columns:\n",
       "\tsocialcause\tstr\n",
       "\tcountry\tstr\n",
       "\n",
       "Rows: 10\n",
       "\n",
       "Data:\n",
       "+-------------+-----------+\n",
       "| socialcause |  country  |\n",
       "+-------------+-----------+\n",
       "|  childabuse |     UK    |\n",
       "|  childabuse |     UK    |\n",
       "|  childabuse |     US    |\n",
       "|  childabuse |     US    |\n",
       "|  childabuse |     UK    |\n",
       "|  childabuse |     US    |\n",
       "|  childabuse |     US    |\n",
       "|  childabuse | Indonesia |\n",
       "|  childabuse |     US    |\n",
       "|  childabuse |     US    |\n",
       "+-------------+-----------+\n",
       "[10 rows x 2 columns]"
      ]
     },
     "execution_count": 27,
     "metadata": {},
     "output_type": "execute_result"
    }
   ],
   "source": [
    "sub['country'] = sub['country'].apply(renameUKUS)\n",
    "sub.head()"
   ]
  },
  {
   "cell_type": "code",
   "execution_count": 28,
   "metadata": {
    "collapsed": true
   },
   "outputs": [],
   "source": [
    "sub = sub.join(country,on='country')"
   ]
  },
  {
   "cell_type": "code",
   "execution_count": 29,
   "metadata": {
    "collapsed": false
   },
   "outputs": [
    {
     "data": {
      "text/html": [
       "<div style=\"max-height:1000px;max-width:1500px;overflow:auto;\"><table frame=\"box\" rules=\"cols\">\n",
       "    <tr>\n",
       "        <th style=\"padding-left: 1em; padding-right: 1em; text-align: center\">socialcause</th>\n",
       "        <th style=\"padding-left: 1em; padding-right: 1em; text-align: center\">ISO3166-1-Alpha-3</th>\n",
       "        <th style=\"padding-left: 1em; padding-right: 1em; text-align: center\">country</th>\n",
       "    </tr>\n",
       "    <tr>\n",
       "        <td style=\"padding-left: 1em; padding-right: 1em; text-align: center; vertical-align: top\">childabuse</td>\n",
       "        <td style=\"padding-left: 1em; padding-right: 1em; text-align: center; vertical-align: top\">GBR</td>\n",
       "        <td style=\"padding-left: 1em; padding-right: 1em; text-align: center; vertical-align: top\">UK</td>\n",
       "    </tr>\n",
       "    <tr>\n",
       "        <td style=\"padding-left: 1em; padding-right: 1em; text-align: center; vertical-align: top\">childabuse</td>\n",
       "        <td style=\"padding-left: 1em; padding-right: 1em; text-align: center; vertical-align: top\">GBR</td>\n",
       "        <td style=\"padding-left: 1em; padding-right: 1em; text-align: center; vertical-align: top\">UK</td>\n",
       "    </tr>\n",
       "    <tr>\n",
       "        <td style=\"padding-left: 1em; padding-right: 1em; text-align: center; vertical-align: top\">childabuse</td>\n",
       "        <td style=\"padding-left: 1em; padding-right: 1em; text-align: center; vertical-align: top\">USA</td>\n",
       "        <td style=\"padding-left: 1em; padding-right: 1em; text-align: center; vertical-align: top\">US</td>\n",
       "    </tr>\n",
       "    <tr>\n",
       "        <td style=\"padding-left: 1em; padding-right: 1em; text-align: center; vertical-align: top\">childabuse</td>\n",
       "        <td style=\"padding-left: 1em; padding-right: 1em; text-align: center; vertical-align: top\">USA</td>\n",
       "        <td style=\"padding-left: 1em; padding-right: 1em; text-align: center; vertical-align: top\">US</td>\n",
       "    </tr>\n",
       "    <tr>\n",
       "        <td style=\"padding-left: 1em; padding-right: 1em; text-align: center; vertical-align: top\">childabuse</td>\n",
       "        <td style=\"padding-left: 1em; padding-right: 1em; text-align: center; vertical-align: top\">GBR</td>\n",
       "        <td style=\"padding-left: 1em; padding-right: 1em; text-align: center; vertical-align: top\">UK</td>\n",
       "    </tr>\n",
       "    <tr>\n",
       "        <td style=\"padding-left: 1em; padding-right: 1em; text-align: center; vertical-align: top\">childabuse</td>\n",
       "        <td style=\"padding-left: 1em; padding-right: 1em; text-align: center; vertical-align: top\">USA</td>\n",
       "        <td style=\"padding-left: 1em; padding-right: 1em; text-align: center; vertical-align: top\">US</td>\n",
       "    </tr>\n",
       "    <tr>\n",
       "        <td style=\"padding-left: 1em; padding-right: 1em; text-align: center; vertical-align: top\">childabuse</td>\n",
       "        <td style=\"padding-left: 1em; padding-right: 1em; text-align: center; vertical-align: top\">USA</td>\n",
       "        <td style=\"padding-left: 1em; padding-right: 1em; text-align: center; vertical-align: top\">US</td>\n",
       "    </tr>\n",
       "    <tr>\n",
       "        <td style=\"padding-left: 1em; padding-right: 1em; text-align: center; vertical-align: top\">childabuse</td>\n",
       "        <td style=\"padding-left: 1em; padding-right: 1em; text-align: center; vertical-align: top\">IDN</td>\n",
       "        <td style=\"padding-left: 1em; padding-right: 1em; text-align: center; vertical-align: top\">Indonesia</td>\n",
       "    </tr>\n",
       "    <tr>\n",
       "        <td style=\"padding-left: 1em; padding-right: 1em; text-align: center; vertical-align: top\">childabuse</td>\n",
       "        <td style=\"padding-left: 1em; padding-right: 1em; text-align: center; vertical-align: top\">USA</td>\n",
       "        <td style=\"padding-left: 1em; padding-right: 1em; text-align: center; vertical-align: top\">US</td>\n",
       "    </tr>\n",
       "    <tr>\n",
       "        <td style=\"padding-left: 1em; padding-right: 1em; text-align: center; vertical-align: top\">childabuse</td>\n",
       "        <td style=\"padding-left: 1em; padding-right: 1em; text-align: center; vertical-align: top\">USA</td>\n",
       "        <td style=\"padding-left: 1em; padding-right: 1em; text-align: center; vertical-align: top\">US</td>\n",
       "    </tr>\n",
       "</table>\n",
       "[10 rows x 3 columns]<br/>\n",
       "</div>"
      ],
      "text/plain": [
       "Columns:\n",
       "\tsocialcause\tstr\n",
       "\tISO3166-1-Alpha-3\tstr\n",
       "\tcountry\tstr\n",
       "\n",
       "Rows: 10\n",
       "\n",
       "Data:\n",
       "+-------------+-------------------+-----------+\n",
       "| socialcause | ISO3166-1-Alpha-3 |  country  |\n",
       "+-------------+-------------------+-----------+\n",
       "|  childabuse |        GBR        |     UK    |\n",
       "|  childabuse |        GBR        |     UK    |\n",
       "|  childabuse |        USA        |     US    |\n",
       "|  childabuse |        USA        |     US    |\n",
       "|  childabuse |        GBR        |     UK    |\n",
       "|  childabuse |        USA        |     US    |\n",
       "|  childabuse |        USA        |     US    |\n",
       "|  childabuse |        IDN        | Indonesia |\n",
       "|  childabuse |        USA        |     US    |\n",
       "|  childabuse |        USA        |     US    |\n",
       "+-------------+-------------------+-----------+\n",
       "[10 rows x 3 columns]"
      ]
     },
     "execution_count": 29,
     "metadata": {},
     "output_type": "execute_result"
    }
   ],
   "source": [
    "sub = sub['socialcause','ISO3166-1-Alpha-3','country']\n",
    "sub.head()"
   ]
  },
  {
   "cell_type": "code",
   "execution_count": 30,
   "metadata": {
    "collapsed": true
   },
   "outputs": [],
   "source": [
    "country_wise_stats = sub.groupby(key_columns={'ISO3166-1-Alpha-3','country'},\n",
    "...                                operations={\n",
    "...                                    'socialcause_freq': gl.aggregate.FREQ_COUNT('socialcause')\n",
    "        }\n",
    "        )"
   ]
  },
  {
   "cell_type": "code",
   "execution_count": 31,
   "metadata": {
    "collapsed": false
   },
   "outputs": [
    {
     "data": {
      "text/html": [
       "<div style=\"max-height:1000px;max-width:1500px;overflow:auto;\"><table frame=\"box\" rules=\"cols\">\n",
       "    <tr>\n",
       "        <th style=\"padding-left: 1em; padding-right: 1em; text-align: center\">fillKey</th>\n",
       "        <th style=\"padding-left: 1em; padding-right: 1em; text-align: center\">country</th>\n",
       "        <th style=\"padding-left: 1em; padding-right: 1em; text-align: center\">socialcause_freq</th>\n",
       "    </tr>\n",
       "    <tr>\n",
       "        <td style=\"padding-left: 1em; padding-right: 1em; text-align: center; vertical-align: top\">NLD</td>\n",
       "        <td style=\"padding-left: 1em; padding-right: 1em; text-align: center; vertical-align: top\">Netherlands</td>\n",
       "        <td style=\"padding-left: 1em; padding-right: 1em; text-align: center; vertical-align: top\">{'climate': 36L,<br>'hunger': 120L, 'gend ...</td>\n",
       "    </tr>\n",
       "    <tr>\n",
       "        <td style=\"padding-left: 1em; padding-right: 1em; text-align: center; vertical-align: top\">SWE</td>\n",
       "        <td style=\"padding-left: 1em; padding-right: 1em; text-align: center; vertical-align: top\">Sweden</td>\n",
       "        <td style=\"padding-left: 1em; padding-right: 1em; text-align: center; vertical-align: top\">{'climate': 28L,<br>'hunger': 10L, 'pover ...</td>\n",
       "    </tr>\n",
       "    <tr>\n",
       "        <td style=\"padding-left: 1em; padding-right: 1em; text-align: center; vertical-align: top\">HUN</td>\n",
       "        <td style=\"padding-left: 1em; padding-right: 1em; text-align: center; vertical-align: top\">Hungary</td>\n",
       "        <td style=\"padding-left: 1em; padding-right: 1em; text-align: center; vertical-align: top\">{'hunger': 5L}</td>\n",
       "    </tr>\n",
       "    <tr>\n",
       "        <td style=\"padding-left: 1em; padding-right: 1em; text-align: center; vertical-align: top\">CHE</td>\n",
       "        <td style=\"padding-left: 1em; padding-right: 1em; text-align: center; vertical-align: top\">Switzerland</td>\n",
       "        <td style=\"padding-left: 1em; padding-right: 1em; text-align: center; vertical-align: top\">{'childabuse': 2L}</td>\n",
       "    </tr>\n",
       "    <tr>\n",
       "        <td style=\"padding-left: 1em; padding-right: 1em; text-align: center; vertical-align: top\">RUS</td>\n",
       "        <td style=\"padding-left: 1em; padding-right: 1em; text-align: center; vertical-align: top\">Russia</td>\n",
       "        <td style=\"padding-left: 1em; padding-right: 1em; text-align: center; vertical-align: top\">{'climate': 9L, 'hunger':<br>2L, 'gender': 1L, ...</td>\n",
       "    </tr>\n",
       "    <tr>\n",
       "        <td style=\"padding-left: 1em; padding-right: 1em; text-align: center; vertical-align: top\">ITA</td>\n",
       "        <td style=\"padding-left: 1em; padding-right: 1em; text-align: center; vertical-align: top\">Italy</td>\n",
       "        <td style=\"padding-left: 1em; padding-right: 1em; text-align: center; vertical-align: top\">{'humanrights': 2L,<br>'climate': 16L, 'gend ...</td>\n",
       "    </tr>\n",
       "    <tr>\n",
       "        <td style=\"padding-left: 1em; padding-right: 1em; text-align: center; vertical-align: top\">ISR</td>\n",
       "        <td style=\"padding-left: 1em; padding-right: 1em; text-align: center; vertical-align: top\">Israel</td>\n",
       "        <td style=\"padding-left: 1em; padding-right: 1em; text-align: center; vertical-align: top\">{'humanrights': 2L,<br>'gender': 1L, ...</td>\n",
       "    </tr>\n",
       "    <tr>\n",
       "        <td style=\"padding-left: 1em; padding-right: 1em; text-align: center; vertical-align: top\">CHL</td>\n",
       "        <td style=\"padding-left: 1em; padding-right: 1em; text-align: center; vertical-align: top\">Chile</td>\n",
       "        <td style=\"padding-left: 1em; padding-right: 1em; text-align: center; vertical-align: top\">{'climate': 3L, 'health':<br>1L, 'racism': 1L, ...</td>\n",
       "    </tr>\n",
       "    <tr>\n",
       "        <td style=\"padding-left: 1em; padding-right: 1em; text-align: center; vertical-align: top\">KOR</td>\n",
       "        <td style=\"padding-left: 1em; padding-right: 1em; text-align: center; vertical-align: top\">South Korea</td>\n",
       "        <td style=\"padding-left: 1em; padding-right: 1em; text-align: center; vertical-align: top\">{'climate': 1L, 'racism':<br>1L, 'childabuse': 1L, ...</td>\n",
       "    </tr>\n",
       "    <tr>\n",
       "        <td style=\"padding-left: 1em; padding-right: 1em; text-align: center; vertical-align: top\">ZWE</td>\n",
       "        <td style=\"padding-left: 1em; padding-right: 1em; text-align: center; vertical-align: top\">Zimbabwe</td>\n",
       "        <td style=\"padding-left: 1em; padding-right: 1em; text-align: center; vertical-align: top\">{'poverty': 2L, 'hunger':<br>22L} ...</td>\n",
       "    </tr>\n",
       "</table>\n",
       "[73 rows x 3 columns]<br/>Note: Only the head of the SFrame is printed.<br/>You can use print_rows(num_rows=m, num_columns=n) to print more rows and columns.\n",
       "</div>"
      ],
      "text/plain": [
       "Columns:\n",
       "\tfillKey\tstr\n",
       "\tcountry\tstr\n",
       "\tsocialcause_freq\tdict\n",
       "\n",
       "Rows: 73\n",
       "\n",
       "Data:\n",
       "+---------+-------------+--------------------------------+\n",
       "| fillKey |   country   |        socialcause_freq        |\n",
       "+---------+-------------+--------------------------------+\n",
       "|   NLD   | Netherlands | {'climate': 36L, 'hunger':...  |\n",
       "|   SWE   |    Sweden   | {'climate': 28L, 'hunger':...  |\n",
       "|   HUN   |   Hungary   |         {'hunger': 5L}         |\n",
       "|   CHE   | Switzerland |       {'childabuse': 2L}       |\n",
       "|   RUS   |    Russia   | {'climate': 9L, 'hunger': ...  |\n",
       "|   ITA   |    Italy    | {'humanrights': 2L, 'clima...  |\n",
       "|   ISR   |    Israel   | {'humanrights': 2L, 'gende...  |\n",
       "|   CHL   |    Chile    | {'climate': 3L, 'health': ...  |\n",
       "|   KOR   | South Korea | {'climate': 1L, 'racism': ...  |\n",
       "|   ZWE   |   Zimbabwe  | {'poverty': 2L, 'hunger': 22L} |\n",
       "+---------+-------------+--------------------------------+\n",
       "[73 rows x 3 columns]\n",
       "Note: Only the head of the SFrame is printed.\n",
       "You can use print_rows(num_rows=m, num_columns=n) to print more rows and columns."
      ]
     },
     "execution_count": 31,
     "metadata": {},
     "output_type": "execute_result"
    }
   ],
   "source": [
    "country_wise_stats.rename({'ISO3166-1-Alpha-3' :'fillKey'})\n",
    "country_wise_stats"
   ]
  },
  {
   "cell_type": "code",
   "execution_count": 67,
   "metadata": {
    "collapsed": true
   },
   "outputs": [],
   "source": [
    "country_wise_stats.export_json('dd.json')"
   ]
  },
  {
   "cell_type": "code",
   "execution_count": 32,
   "metadata": {
    "collapsed": true
   },
   "outputs": [],
   "source": [
    "ss = []"
   ]
  },
  {
   "cell_type": "code",
   "execution_count": 33,
   "metadata": {
    "collapsed": false
   },
   "outputs": [],
   "source": [
    "for r in country_wise_stats:\n",
    "    ss.append({r['fillKey'] : r })"
   ]
  },
  {
   "cell_type": "code",
   "execution_count": 34,
   "metadata": {
    "collapsed": true
   },
   "outputs": [],
   "source": [
    "import json"
   ]
  },
  {
   "cell_type": "code",
   "execution_count": 35,
   "metadata": {
    "collapsed": false
   },
   "outputs": [],
   "source": [
    "with open(\"text1.json\", \"w\") as outfile:\n",
    "    json.dump(ss, outfile, indent=4)\n"
   ]
  },
  {
   "cell_type": "code",
   "execution_count": null,
   "metadata": {
    "collapsed": true
   },
   "outputs": [],
   "source": []
  }
 ],
 "metadata": {
  "kernelspec": {
   "display_name": "Python 2",
   "language": "python",
   "name": "python2"
  },
  "language_info": {
   "codemirror_mode": {
    "name": "ipython",
    "version": 2
   },
   "file_extension": ".py",
   "mimetype": "text/x-python",
   "name": "python",
   "nbconvert_exporter": "python",
   "pygments_lexer": "ipython2",
   "version": "2.7.12"
  }
 },
 "nbformat": 4,
 "nbformat_minor": 0
}
