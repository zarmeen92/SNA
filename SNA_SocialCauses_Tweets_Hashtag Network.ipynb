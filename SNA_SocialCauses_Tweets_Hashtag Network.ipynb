{
 "cells": [
  {
   "cell_type": "code",
   "execution_count": 1,
   "metadata": {
    "collapsed": true
   },
   "outputs": [],
   "source": [
    "import graphlab as gl"
   ]
  },
  {
   "cell_type": "code",
   "execution_count": 2,
   "metadata": {
    "collapsed": true
   },
   "outputs": [],
   "source": [
    "import itertools"
   ]
  },
  {
   "cell_type": "code",
   "execution_count": 3,
   "metadata": {
    "collapsed": true
   },
   "outputs": [],
   "source": [
    "#can't get the location on nodes,the reason is that the top influence might not appear in dataset,he is only in our mentions,\n",
    "#in racism : Blk_voice\n",
    "def create_hashtag_cooccurence(sub):\n",
    "    #source = []\n",
    "    #target = []\n",
    "    nodeList = []\n",
    "    edgelist = []\n",
    "    for tweet in sub:\n",
    "        s = tweet['X1.entities.hashtags']\n",
    "        edges = list(itertools.combinations(s,2))\n",
    "        for e in edges:\n",
    "            \n",
    "            nodeList.append('#'+e[0]['text'].lower())\n",
    "            nodeList.append('#'+e[1]['text'].lower())\n",
    "            edgelist.append({'Source' : '#'+e[0]['text'].lower(),'Target' : '#'+e[1]['text'].lower(),'Type' : 'Undirected'})\n",
    "    nodeList = list(set(nodeList))\n",
    "    return edgelist,nodeList"
   ]
  },
  {
   "cell_type": "code",
   "execution_count": 5,
   "metadata": {
    "collapsed": true
   },
   "outputs": [],
   "source": [
    "def produce_edges_nodes(filename):\n",
    "    print '------------ '+filename+ 'Cause ------------'\n",
    "    tweets = gl.SFrame.read_csv(filename+'_sf.csv',verbose=False)\n",
    "    print \"Total Tweets : %d\"%tweets.num_rows()\n",
    "    #removing tweets that have no mentions in it\n",
    "    tweets['X1.entities.hashtags'] = tweets['X1.entities.hashtags'].astype(list)\n",
    "    sub = tweets[tweets['X1.entities.hashtags'] != []]\n",
    "    print \"Total Tweets after removing non-mentions : %d\"%sub.num_rows()\n",
    "    edgeList,nodeList = create_hashtag_cooccurence(sub)\n",
    "    edgeList = gl.SFrame(edgeList)\n",
    "    edgeList = edgeList.unpack('X1')\n",
    "    nodeListSF = gl.SFrame({'Id' : nodeList,'Label' : nodeList})\n",
    "    edgeList.export_csv('hashtags/'+filename+'_edges.csv')\n",
    "    nodeListSF.export_csv('hashtags/'+filename +'_nodes.csv')\n",
    "    print '------------ x ------------'\n",
    "    return True"
   ]
  },
  {
   "cell_type": "code",
   "execution_count": 6,
   "metadata": {
    "collapsed": false
   },
   "outputs": [
    {
     "name": "stdout",
     "output_type": "stream",
     "text": [
      "------------ childabuseCause ------------\n",
      "This non-commercial license of GraphLab Create for academic use is assigned to znasim@khi.iba.edu.pk and will expire on February 01, 2017."
     ]
    },
    {
     "name": "stderr",
     "output_type": "stream",
     "text": [
      "[INFO] graphlab.cython.cy_server: GraphLab Create v2.1 started. Logging: C:\\Users\\Zarmeen\\AppData\\Local\\Temp\\graphlab_server_1477670594.log.0\n",
      "INFO:graphlab.cython.cy_server:GraphLab Create v2.1 started. Logging: C:\\Users\\Zarmeen\\AppData\\Local\\Temp\\graphlab_server_1477670594.log.0\n"
     ]
    },
    {
     "name": "stdout",
     "output_type": "stream",
     "text": [
      "\n",
      "Total Tweets : 336\n",
      "Total Tweets after removing non-mentions : 336\n",
      "------------ x ------------\n",
      "------------ climateCause ------------\n",
      "Total Tweets : 949\n",
      "Total Tweets after removing non-mentions : 949\n",
      "------------ x ------------\n",
      "------------ eduCause ------------\n",
      "Total Tweets : 963\n",
      "Total Tweets after removing non-mentions : 963\n",
      "------------ x ------------\n",
      "------------ genderCause ------------\n",
      "Total Tweets : 663\n",
      "Total Tweets after removing non-mentions : 663\n",
      "------------ x ------------\n",
      "------------ healthCause ------------\n",
      "Total Tweets : 2627\n",
      "Total Tweets after removing non-mentions : 2627\n",
      "------------ x ------------\n",
      "------------ humanrightsCause ------------\n",
      "Total Tweets : 265\n",
      "Total Tweets after removing non-mentions : 265\n",
      "------------ x ------------\n",
      "------------ hungerCause ------------\n",
      "Total Tweets : 5220\n",
      "Total Tweets after removing non-mentions : 5220\n",
      "------------ x ------------\n",
      "------------ povertyCause ------------\n",
      "Total Tweets : 197\n",
      "Total Tweets after removing non-mentions : 197\n",
      "------------ x ------------\n",
      "------------ racismCause ------------\n",
      "Total Tweets : 756\n",
      "Total Tweets after removing non-mentions : 756\n",
      "------------ x ------------\n",
      "------------ refugeesCause ------------\n",
      "Total Tweets : 393\n",
      "Total Tweets after removing non-mentions : 393\n",
      "------------ x ------------\n",
      "------------ terrorismCause ------------\n",
      "Total Tweets : 212\n",
      "Total Tweets after removing non-mentions : 212\n",
      "------------ x ------------\n"
     ]
    }
   ],
   "source": [
    "social_causes = ['childabuse','climate','edu','gender','health','humanrights','hunger','poverty','racism','refugees','terrorism']\n",
    "\n",
    "for i in range(0,len(social_causes)):\n",
    "    produce_edges_nodes(social_causes[i])"
   ]
  },
  {
   "cell_type": "code",
   "execution_count": null,
   "metadata": {
    "collapsed": true
   },
   "outputs": [],
   "source": []
  }
 ],
 "metadata": {
  "kernelspec": {
   "display_name": "Python 2",
   "language": "python",
   "name": "python2"
  },
  "language_info": {
   "codemirror_mode": {
    "name": "ipython",
    "version": 2
   },
   "file_extension": ".py",
   "mimetype": "text/x-python",
   "name": "python",
   "nbconvert_exporter": "python",
   "pygments_lexer": "ipython2",
   "version": "2.7.12"
  }
 },
 "nbformat": 4,
 "nbformat_minor": 0
}
